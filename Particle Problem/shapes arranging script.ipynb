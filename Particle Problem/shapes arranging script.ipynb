{
 "cells": [
  {
   "cell_type": "code",
   "execution_count": null,
   "id": "0b3ea39b",
   "metadata": {},
   "outputs": [],
   "source": []
  },
  {
   "cell_type": "code",
   "execution_count": 4,
   "id": "5ec2178b",
   "metadata": {},
   "outputs": [
    {
     "name": "stdout",
     "output_type": "stream",
     "text": [
      "[((9.434359830276268, 6.812866406102012), ('square', (5.0,))), ((17.997181720172957, 5.804498531715555), ('circle', (4.0,))), ((3.699415768185774, 5.662909441831596), ('square', (3.0,))), ((13.282105542631735, 11.736479197800726), ('circle', (2.0,))), ((13.005907335789196, 3.7194608423581794), ('square', (2.0,))), ((10.459682614181615, 13.848497579280982), ('circle', (1.0,)))]\n"
     ]
    },
    {
     "data": {
      "image/png": "[encoded data removed]",
      "text/plain": [
       "<Figure size 432x288 with 1 Axes>"
      ]
     },
     "metadata": {
      "needs_background": "light"
     },
     "output_type": "display_data"
    }
   ],
   "source": [
    "import matplotlib.pyplot as plt\n",
    "import random\n",
    "from shapely.geometry import Point, Polygon\n",
    "from shapely.ops import unary_union\n",
    "colors = [ 'r','g','b']\n",
    "# Read input file\n",
    "with open('input.txt') as f:\n",
    "    lines = f.readlines()\n",
    "\n",
    "# Extract dimensions of rectangle\n",
    "r_x, r_y = map(float, lines[0].split()[1:])\n",
    "\n",
    "# Create rectangle polygon\n",
    "#rectangle = Polygon([(0, 0), (r_x, 0), (r_x, r_y), (0, r_y)])\n",
    "# Create the rectangle using matplotlib\n",
    "fig, ax = plt.subplots()\n",
    "ax.set_xlim([0, r_x])\n",
    "ax.set_ylim([0, r_y])\n",
    "rect = plt.Rectangle((0, 0), r_x, r_y, facecolor='none',edgecolor = 'black', linewidth = 6)\n",
    "ax.add_patch(rect)\n",
    "\n",
    "# Create list of shapes and their dimensions\n",
    "shapes = [(line.split()[0], tuple(map(float, line.split()[1:]))) for line in lines[1:]]\n",
    "\n",
    "# Sort shapes by descending order of size\n",
    "shapes.sort(key=lambda s: max(s[1]), reverse=True)\n",
    "\n",
    "# Fit shapes inside rectangle\n",
    "positions = []\n",
    "for shape in shapes:\n",
    "    shape_type, shape_dim = shape\n",
    "    while True:\n",
    "        # Generate random position for the shape\n",
    "        x = random.uniform(max(shape_dim), r_x - max(shape_dim))\n",
    "        y = random.uniform(max(shape_dim), r_y - max(shape_dim))\n",
    "        pos = Point(x, y)\n",
    "\n",
    "        # Check for overlapping with other shapes\n",
    "        overlapping = False\n",
    "        for p, s in positions:\n",
    "            s_type, s_dim = s\n",
    "            # Create shapely polygon for the existing shape\n",
    "            if s_type == 'circle':\n",
    "                s_poly = Point(*p).buffer(s_dim[0])\n",
    "            else:\n",
    "                s_poly = Polygon([(p[0]-s_dim[0]/2, p[1]-s_dim[0]/2), \n",
    "                                   (p[0]+s_dim[0]/2, p[1]-s_dim[0]/2),\n",
    "                                   (p[0]+s_dim[0]/2, p[1]+s_dim[0]/2), \n",
    "                                   (p[0]-s_dim[0]/2, p[1]+s_dim[0]/2)])\n",
    "            \n",
    "            # Create shapely polygon for the new shape\n",
    "            if shape_type == 'circle':\n",
    "                shape_poly = pos.buffer(shape_dim[0])\n",
    "            else:\n",
    "                shape_poly = Polygon([(x-shape_dim[0]/2, y-shape_dim[0]/2), \n",
    "                                      (x+shape_dim[0]/2, y-shape_dim[0]/2),\n",
    "                                      (x+shape_dim[0]/2, y+shape_dim[0]/2), \n",
    "                                      (x-shape_dim[0]/2, y+shape_dim[0]/2)])\n",
    "\n",
    "            # Check if the two polygons intersect\n",
    "            if s_poly.intersects(shape_poly):\n",
    "                overlapping = True\n",
    "                break\n",
    "\n",
    "        if not overlapping:\n",
    "            positions.append((pos.coords[0], shape))\n",
    "            break\n",
    "print(positions)            \n",
    "# Write the positions to the output file\n",
    "with open('output.txt', 'w') as f:\n",
    "    for pos, shape in positions:\n",
    "        shape_type, shape_dim = shape\n",
    "        f.write(f\"{shape_type} {shape_dim[0]} {pos[0]} {pos[1]}\\n\")\n",
    "        \n",
    "        \n",
    "        \n",
    "        \n",
    "        \n",
    "        \n",
    "# Plot the shapes\n",
    "import matplotlib.pyplot as plt\n",
    "\n",
    "# Read the input file\n",
    "with open('output.txt', 'r') as f:\n",
    "    lines = f.readlines()\n",
    "\n",
    "# Initialize the figure\n",
    "# Plot the circles and squares\n",
    "for line in lines:\n",
    "    tokens = line.strip().split()\n",
    "    shape = tokens[0]\n",
    "    size = float(tokens[1])\n",
    "    p = float(tokens[2])\n",
    "    q = float(tokens[3])\n",
    "    if shape == 'circle':\n",
    "        ax.add_artist(plt.Circle((p, q), size, color=random.choice(colors)))\n",
    "    elif shape == 'square':\n",
    "        ax.add_artist(plt.Rectangle((p-size/2, q-size/2), size, size, color=random.choice(colors)))\n",
    "\n",
    "# Set the axis limits and display the plot\n",
    "ax.set_xlim(0,r_x)\n",
    "ax.set_ylim(0,r_y)\n",
    "ax.set_axis_off()\n",
    "plt.savefig(\"plot_3_particles.jpg\")\n",
    "plt.show()"
   ]
  },
  {
   "cell_type": "code",
   "execution_count": null,
   "id": "7926703b",
   "metadata": {},
   "outputs": [],
   "source": []
  }
 ],
 "metadata": {
  "kernelspec": {
   "display_name": "Python 3 (ipykernel)",
   "language": "python",
   "name": "python3"
  },
  "language_info": {
   "codemirror_mode": {
    "name": "ipython",
    "version": 3
   },
   "file_extension": ".py",
   "mimetype": "text/x-python",
   "name": "python",
   "nbconvert_exporter": "python",
   "pygments_lexer": "ipython3",
   "version": "3.10.6"
  }
 },
 "nbformat": 4,
 "nbformat_minor": 5
}
